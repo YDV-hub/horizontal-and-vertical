{
 "cells": [
  {
   "cell_type": "code",
   "execution_count": 2,
   "id": "c3626af9-1645-4cf9-8003-850627512574",
   "metadata": {},
   "outputs": [
    {
     "name": "stdin",
     "output_type": "stream",
     "text": [
      "enter starting point 2\n",
      "enter ending point 50\n",
      "enter updating point 1\n",
      "enter r for reverse and f for forward  r\n",
      "enter h for horizontal or v for vertical h\n"
     ]
    },
    {
     "name": "stdout",
     "output_type": "stream",
     "text": [
      "50 49 48 47 46 45 44 43 42 41 40 39 38 37 36 35 34 33 32 31 30 29 28 27 26 25 24 23 22 21 20 19 18 17 16 15 14 13 12 11 10 9 8 7 6 5 4 3 2 enter h or v only\n"
     ]
    }
   ],
   "source": [
    "a = int(input(\"enter starting point\"))\n",
    "b = int(input(\"enter ending point\"))\n",
    "u = int(input(\"enter updating point\"))\n",
    "order = (input(\"enter r for reverse and f for forward \"))\n",
    "c = (input(\"enter h for horizontal or v for vertical\"))\n",
    "if(order=='r'):\n",
    "    for i in range(b,a-1,-u):\n",
    "        if(c=='h'):\n",
    "            print(i,end=' ')\n",
    "        elif(c=='v'):\n",
    "            print(i)\n",
    "    else:\n",
    "        print('enter h or v only')\n",
    "elif(order=='f'):\n",
    "    for i in range(a,b+1,u):\n",
    "        if(c=='h'):\n",
    "            print(i,end=' ')\n",
    "        elif(c=='v'):\n",
    "            print(i)\n",
    "    else:\n",
    "        print('enter h or v only')\n",
    "else:\n",
    "    print('enter valid input')\n"
   ]
  },
  {
   "cell_type": "code",
   "execution_count": null,
   "id": "00432a2e-41bd-4e5c-8a70-13db74e5e366",
   "metadata": {},
   "outputs": [],
   "source": []
  }
 ],
 "metadata": {
  "kernelspec": {
   "display_name": "Python 3 (ipykernel)",
   "language": "python",
   "name": "python3"
  },
  "language_info": {
   "codemirror_mode": {
    "name": "ipython",
    "version": 3
   },
   "file_extension": ".py",
   "mimetype": "text/x-python",
   "name": "python",
   "nbconvert_exporter": "python",
   "pygments_lexer": "ipython3",
   "version": "3.12.4"
  }
 },
 "nbformat": 4,
 "nbformat_minor": 5
}
